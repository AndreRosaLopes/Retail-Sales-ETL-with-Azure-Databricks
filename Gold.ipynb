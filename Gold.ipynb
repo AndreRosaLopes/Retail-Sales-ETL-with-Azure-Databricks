{
 "cells": [
  {
   "cell_type": "markdown",
   "metadata": {
    "application/vnd.databricks.v1+cell": {
     "cellMetadata": {},
     "inputWidgets": {},
     "nuid": "45167fdd-6057-425b-aa57-81dd9cef220c",
     "showTitle": false,
     "tableResultSettingsMap": {},
     "title": ""
    }
   },
   "source": [
    "# Gold"
   ]
  },
  {
   "cell_type": "markdown",
   "metadata": {
    "application/vnd.databricks.v1+cell": {
     "cellMetadata": {},
     "inputWidgets": {},
     "nuid": "230dbd58-2899-48d2-b134-1a3398e8021d",
     "showTitle": false,
     "tableResultSettingsMap": {},
     "title": ""
    }
   },
   "source": [
    "## Customer\n",
    "\n",
    "* SDC2 Dimension"
   ]
  },
  {
   "cell_type": "code",
   "execution_count": 0,
   "metadata": {
    "application/vnd.databricks.v1+cell": {
     "cellMetadata": {
      "byteLimit": 2048000,
      "rowLimit": 10000
     },
     "inputWidgets": {},
     "nuid": "a5292f91-50fe-4713-ae6e-383b4a68a309",
     "showTitle": false,
     "tableResultSettingsMap": {},
     "title": ""
    }
   },
   "outputs": [],
   "source": [
    "from pyspark.sql.functions import current_timestamp\n",
    "from delta.tables import DeltaTable"
   ]
  },
  {
   "cell_type": "code",
   "execution_count": 0,
   "metadata": {
    "application/vnd.databricks.v1+cell": {
     "cellMetadata": {
      "byteLimit": 2048000,
      "rowLimit": 10000
     },
     "inputWidgets": {},
     "nuid": "5d71cf39-e45e-4788-9cb5-5616583a601c",
     "showTitle": false,
     "tableResultSettingsMap": {},
     "title": ""
    }
   },
   "outputs": [],
   "source": [
    "# reading silver and gold tables \n",
    "df_silver = DeltaTable.forName(spark, \"silver.Customers\").toDF()\n",
    "df_gold = DeltaTable.forName(spark, \"gold.Customers\")\n",
    "\n",
    "# Mark 1 for delete and 3 for update (before image) in silver.table\n",
    "df_gold.alias(\"target\").merge(\n",
    "    df_silver.alias(\"source\"),\n",
    "    \"target.CUSTOMER_ID == source.CUSTOMER_ID AND target.active == 1\"\n",
    ").whenMatchedUpdate(\n",
    "    condition=\"target.hash != source.hash AND target.active == 1\",\n",
    "    set={\n",
    "        \"active\": \"0\",\n",
    "        \"end_timestamp\": current_timestamp()\n",
    "    }\n",
    ").whenNotMatchedBySourceUpdate(\n",
    "    condition=\"target.active == 1\",\n",
    "    set={\n",
    "        \"active\": \"0\",\n",
    "        \"end_timestamp\": current_timestamp()\n",
    "    }\n",
    ").execute()\n",
    "\n",
    "# Insert Updated records to gold table\n",
    "df_gold.alias(\"target\").merge(\n",
    "    df_silver.alias(\"source\"),\n",
    "    \"target.CUSTOMER_ID == source.CUSTOMER_ID AND target.active == 1\"\n",
    ").whenNotMatchedInsert(\n",
    "    values = {\n",
    "        \"CUSTOMER_ID\": \"source.CUSTOMER_ID\",\n",
    "        \"hash\": \"source.hash\",\n",
    "        \"load_timestamp\": \"source.load_timestamp\",\n",
    "        \"end_timestamp\": \"source.end_timestamp\",\n",
    "        \"active\": \"1\",\n",
    "        \"Social_Security_Number\": \"source.Social_Security_Number\",\n",
    "        \"Name\": \"source.Name\",\n",
    "        \"Email\": \"source.Email\",\n",
    "        \"Phone\": \"source.Phone\",\n",
    "        \"Address\": \"source.Address\",\n",
    "        \"Zip_Code\": \"source.Zip_Code\"\n",
    "        }\n",
    ").execute()"
   ]
  },
  {
   "cell_type": "code",
   "execution_count": 0,
   "metadata": {
    "application/vnd.databricks.v1+cell": {
     "cellMetadata": {},
     "inputWidgets": {},
     "nuid": "9f2d00b2-2dda-481b-8bf9-3d2f4e3cd536",
     "showTitle": false,
     "tableResultSettingsMap": {},
     "title": ""
    }
   },
   "outputs": [],
   "source": [
    "%sql\n"
   ]
  }
 ],
 "metadata": {
  "application/vnd.databricks.v1+notebook": {
   "computePreferences": null,
   "dashboards": [],
   "environmentMetadata": {
    "base_environment": "",
    "environment_version": "2"
   },
   "language": "python",
   "notebookMetadata": {
    "mostRecentlyExecutedCommandWithImplicitDF": {
     "commandId": 3977003792065280,
     "dataframes": [
      "_sqldf"
     ]
    },
    "pythonIndentUnit": 4
   },
   "notebookName": "Gold",
   "widgets": {}
  },
  "language_info": {
   "name": "python"
  }
 },
 "nbformat": 4,
 "nbformat_minor": 0
}
