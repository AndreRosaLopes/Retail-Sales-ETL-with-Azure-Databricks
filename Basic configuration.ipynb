{
 "cells": [
  {
   "cell_type": "markdown",
   "metadata": {
    "application/vnd.databricks.v1+cell": {
     "cellMetadata": {},
     "inputWidgets": {},
     "nuid": "9310a0f0-1ba5-462a-ac0d-9ac2d72677b4",
     "showTitle": false,
     "tableResultSettingsMap": {},
     "title": ""
    }
   },
   "source": [
    "Basic configurations"
   ]
  },
  {
   "cell_type": "markdown",
   "metadata": {
    "application/vnd.databricks.v1+cell": {
     "cellMetadata": {},
     "inputWidgets": {},
     "nuid": "b35f6d63-0368-4e14-9adf-fa323b52213b",
     "showTitle": false,
     "tableResultSettingsMap": {},
     "title": ""
    }
   },
   "source": [
    "# Time zone"
   ]
  },
  {
   "cell_type": "code",
   "execution_count": 0,
   "metadata": {
    "application/vnd.databricks.v1+cell": {
     "cellMetadata": {
      "byteLimit": 2048000,
      "rowLimit": 10000
     },
     "inputWidgets": {},
     "nuid": "66175260-b233-4476-b0ce-f8e878c329f1",
     "showTitle": false,
     "tableResultSettingsMap": {},
     "title": ""
    }
   },
   "outputs": [],
   "source": [
    "# Configuring my local time zone\n",
    "spark.conf.set(\"spark.sql.session.timeZone\", \"America/Sao_Paulo\")"
   ]
  },
  {
   "cell_type": "markdown",
   "metadata": {
    "application/vnd.databricks.v1+cell": {
     "cellMetadata": {},
     "inputWidgets": {},
     "nuid": "d50439a9-7121-453c-a44c-311df6c8b584",
     "showTitle": false,
     "tableResultSettingsMap": {},
     "title": ""
    }
   },
   "source": [
    "# Credentials for Azure SQL database (using Azure Key Vault)"
   ]
  },
  {
   "cell_type": "code",
   "execution_count": 0,
   "metadata": {
    "application/vnd.databricks.v1+cell": {
     "cellMetadata": {
      "byteLimit": 2048000,
      "rowLimit": 10000
     },
     "inputWidgets": {},
     "nuid": "a7142dda-22fe-4bab-94ae-0a91fc69c3c2",
     "showTitle": false,
     "tableResultSettingsMap": {},
     "title": ""
    }
   },
   "outputs": [],
   "source": [
    "sql_db_retail_key = dbutils.secrets.get(scope=\"keys\", key=\"sqldbretailkey\")\n",
    "sql_db_retail_url = \"jdbc:sqlserver://retail-oltp-server.database.windows.net:1433;databaseName=retail\"\n",
    "sql_db_retail_user = \"andre\"\n",
    "\n",
    "spark.conf.set(\"spark.sql.retail_url\", sql_db_retail_url)\n",
    "spark.conf.set(\"spark.sql.retail_user\", sql_db_retail_user)\n",
    "spark.conf.set(\"spark.sql.retail_key\", sql_db_retail_key)"
   ]
  },
  {
   "cell_type": "markdown",
   "metadata": {
    "application/vnd.databricks.v1+cell": {
     "cellMetadata": {},
     "inputWidgets": {},
     "nuid": "361aab00-f585-4eb2-83dd-dc8b2f766576",
     "showTitle": false,
     "tableResultSettingsMap": {},
     "title": ""
    }
   },
   "source": [
    "# Credentials for mounting (using Azure Key Vault)"
   ]
  },
  {
   "cell_type": "code",
   "execution_count": 0,
   "metadata": {
    "application/vnd.databricks.v1+cell": {
     "cellMetadata": {
      "byteLimit": 2048000,
      "rowLimit": 10000
     },
     "inputWidgets": {},
     "nuid": "b5789a30-d672-47d9-afab-aa9764ee493d",
     "showTitle": false,
     "tableResultSettingsMap": {},
     "title": ""
    }
   },
   "outputs": [],
   "source": [
    "# For accessing the storage accounting\n",
    "storage_account_key= dbutils.secrets.get(scope=\"keys\", key=\"storageaccountkey\")\n",
    "mount_point = \"/mnt/storageforretail/container\""
   ]
  },
  {
   "cell_type": "markdown",
   "metadata": {
    "application/vnd.databricks.v1+cell": {
     "cellMetadata": {},
     "inputWidgets": {},
     "nuid": "30d76db8-5222-452e-9f50-8c17d5f25338",
     "showTitle": false,
     "tableResultSettingsMap": {},
     "title": ""
    }
   },
   "source": [
    "# Mounting containers and directories"
   ]
  },
  {
   "cell_type": "code",
   "execution_count": 0,
   "metadata": {
    "application/vnd.databricks.v1+cell": {
     "cellMetadata": {
      "byteLimit": 2048000,
      "rowLimit": 10000
     },
     "inputWidgets": {},
     "nuid": "9734bd7b-500e-4ba1-b81f-da6e4b95f39a",
     "showTitle": false,
     "tableResultSettingsMap": {},
     "title": ""
    }
   },
   "outputs": [],
   "source": [
    "mount_point = \"/mnt/storageforretail/container\"\n",
    "\n",
    "\n",
    "try:\n",
    "    dbutils.fs.ls(mount_point)\n",
    "    print('OK: container')\n",
    "except:  \n",
    "    # Mount the container in Databricks\n",
    "    dbutils.fs.mount(\n",
    "        source = \"wasbs://container@storageforretail.blob.core.windows.net\",\n",
    "        mount_point = mount_point,\n",
    "        extra_configs = {\"fs.azure.account.key.storageforretail.blob.core.windows.net\": storage_account_key}\n",
    "    )\n",
    "    print('OK: container')\n",
    "\n",
    "# Create directories\n",
    "directories = [\"bronze\", \"silver\", \"gold\"]\n",
    "for directory in directories:\n",
    "    dir_path = f\"{mount_point}/{directory}\"\n",
    "    try:\n",
    "        dbutils.fs.ls(dir_path)\n",
    "        print(f'OK: container/{directory}')\n",
    "    except:\n",
    "        dbutils.fs.mkdirs(dir_path)\n",
    "        print(f'OK: container/{directory}')\n"
   ]
  },
  {
   "cell_type": "markdown",
   "metadata": {
    "application/vnd.databricks.v1+cell": {
     "cellMetadata": {},
     "inputWidgets": {},
     "nuid": "6522f737-5bbf-4608-91b2-4a0c4650008d",
     "showTitle": false,
     "tableResultSettingsMap": {},
     "title": ""
    }
   },
   "source": [
    "# Creating database for bronze"
   ]
  },
  {
   "cell_type": "code",
   "execution_count": 0,
   "metadata": {
    "application/vnd.databricks.v1+cell": {
     "cellMetadata": {
      "byteLimit": 2048000,
      "rowLimit": 10000
     },
     "inputWidgets": {},
     "nuid": "3f34468c-a503-44cf-ae95-860fca4a7012",
     "showTitle": false,
     "tableResultSettingsMap": {},
     "title": ""
    }
   },
   "outputs": [],
   "source": [
    "# First: create databases\n",
    "spark.sql(\"CREATE DATABASE IF NOT EXISTS bronze LOCATION '/mnt/databricksretail/retailcontainer/bronze'\")\n",
    "spark.sql(\"CREATE DATABASE IF NOT EXISTS silver LOCATION '/mnt/databricksretail/retailcontainer/silver'\")\n",
    "spark.sql(\"CREATE DATABASE IF NOT EXISTS gold LOCATION '/mnt/databricksretail/retailcontainer/gold'\")"
   ]
  },
  {
   "cell_type": "markdown",
   "metadata": {
    "application/vnd.databricks.v1+cell": {
     "cellMetadata": {},
     "inputWidgets": {},
     "nuid": "a83ad9c7-a3bb-480b-9a7d-3ecc6e313028",
     "showTitle": false,
     "tableResultSettingsMap": {},
     "title": ""
    }
   },
   "source": [
    "## Define tables in a lazy way to enforce schema evolution"
   ]
  },
  {
   "cell_type": "code",
   "execution_count": 0,
   "metadata": {
    "application/vnd.databricks.v1+cell": {
     "cellMetadata": {
      "byteLimit": 2048000,
      "rowLimit": 10000
     },
     "inputWidgets": {},
     "nuid": "f0cafbc1-b6b4-46ae-b88e-9375d359cb08",
     "showTitle": false,
     "tableResultSettingsMap": {},
     "title": ""
    }
   },
   "outputs": [],
   "source": [
    "# Dictionary with tables and their primary keys\n",
    "primary_keys = {\n",
    "    \"CUSTOMERS\": [\"CUSTOMER_ID\"],\n",
    "    \"BRANDS\": [\"BRAND_ID\"],\n",
    "    \"CATEGORIES\": [\"CATEGORY_ID\"],\n",
    "    \"PRODUCTS\": [\"PRODUCT_ID\"],\n",
    "    \"STORES\": [\"STORE_ID\"],\n",
    "    \"PROMOTIONS\": [\"PROMOTION_ID\"],\n",
    "    \"PAYMENT_METHODS\": [\"PAYMENT_METHOD_ID\"],\n",
    "    \"INVENTORY\": [\"INVENTORY_ID\"],\n",
    "    \"SALES\": [\"SALE_ID\"],\n",
    "    \"TRANSACTION_ITEM\": [\"TRANSACTION_ID\"] \n",
    "}"
   ]
  },
  {
   "cell_type": "markdown",
   "metadata": {
    "application/vnd.databricks.v1+cell": {
     "cellMetadata": {},
     "inputWidgets": {},
     "nuid": "ebe3cd6c-f7e6-411e-ba3e-4c62d1b7008d",
     "showTitle": false,
     "tableResultSettingsMap": {},
     "title": ""
    }
   },
   "source": [
    "Create a table if not exist..."
   ]
  },
  {
   "cell_type": "code",
   "execution_count": 0,
   "metadata": {
    "application/vnd.databricks.v1+cell": {
     "cellMetadata": {
      "byteLimit": 2048000,
      "rowLimit": 10000
     },
     "inputWidgets": {},
     "nuid": "8df0485d-9507-43a0-874f-392a0312c428",
     "showTitle": false,
     "tableResultSettingsMap": {},
     "title": ""
    }
   },
   "outputs": [],
   "source": [
    "# Create tables for the first time only\n",
    "for table in primary_keys:\n",
    "    # Get the list of primary keys for the current table\n",
    "    keys = primary_keys[table]\n",
    "\n",
    "    # Convert the list of primary keys into a SQL column definition\n",
    "    primary_keys_str = \",\\n  \".join([f\"{key} INTEGER\" for key in keys]) # DEALING WITH COMPOSITE KEYS\n",
    "\n",
    "    # Generate and execute the SQL statement\n",
    "    spark.sql(f\"\"\"\n",
    "        CREATE TABLE IF NOT EXISTS bronze.{table} (\n",
    "            {primary_keys_str},\n",
    "            hash STRING,\n",
    "            `load_timestamp` TIMESTAMP,\n",
    "            `end_timestamp` TIMESTAMP,\n",
    "            state INTEGER\n",
    "        ) USING DELTA\n",
    "    \"\"\")\n",
    "    print(f\"Table bronze.{table} has been created!\")"
   ]
  },
  {
   "cell_type": "markdown",
   "metadata": {
    "application/vnd.databricks.v1+cell": {
     "cellMetadata": {},
     "inputWidgets": {},
     "nuid": "62443421-9c99-491e-913f-1c45af906eb8",
     "showTitle": false,
     "tableResultSettingsMap": {},
     "title": ""
    }
   },
   "source": [
    "First drop table, then create..."
   ]
  },
  {
   "cell_type": "code",
   "execution_count": 0,
   "metadata": {
    "application/vnd.databricks.v1+cell": {
     "cellMetadata": {
      "byteLimit": 2048000,
      "rowLimit": 10000
     },
     "inputWidgets": {},
     "nuid": "0199c41c-3966-4078-92d6-d91f62ac6073",
     "showTitle": false,
     "tableResultSettingsMap": {},
     "title": ""
    }
   },
   "outputs": [],
   "source": [
    "# Create tables for the first time only\n",
    "for table in primary_keys:\n",
    "    # Get the list of primary keys for the current table\n",
    "    keys = primary_keys[table]\n",
    "\n",
    "    # Convert the list of primary keys into a SQL column definition\n",
    "    primary_keys_str = \",\\n  \".join([f\"{key} INTEGER\" for key in keys]) # DEALING WITH COMPOSITE KEYS\n",
    "\n",
    "    # Drop the table if it exists\n",
    "    spark.sql(f\"DROP TABLE IF EXISTS bronze.{table}\")\n",
    "\n",
    "    # Generate and execute the SQL statement\n",
    "    spark.sql(f\"\"\"\n",
    "        CREATE OR REPLACE TABLE bronze.{table} (\n",
    "            {primary_keys_str},\n",
    "            hash STRING,\n",
    "            `load_timestamp` TIMESTAMP,\n",
    "            `end_timestamp` TIMESTAMP,\n",
    "            state INTEGER\n",
    "        ) USING DELTA\n",
    "    \"\"\")\n",
    "    print(f\"Table bronze.{table} created successfully!\")"
   ]
  },
  {
   "cell_type": "markdown",
   "metadata": {
    "application/vnd.databricks.v1+cell": {
     "cellMetadata": {},
     "inputWidgets": {},
     "nuid": "8784d34b-f3cd-49bc-8df3-69f5f57ad0e6",
     "showTitle": false,
     "tableResultSettingsMap": {},
     "title": ""
    }
   },
   "source": [
    "# Creating database for gold"
   ]
  },
  {
   "cell_type": "code",
   "execution_count": 0,
   "metadata": {
    "application/vnd.databricks.v1+cell": {
     "cellMetadata": {
      "byteLimit": 2048000,
      "implicitDf": true,
      "rowLimit": 10000
     },
     "inputWidgets": {},
     "nuid": "e961838e-4cfd-4f4a-b757-a434098bbf59",
     "showTitle": false,
     "tableResultSettingsMap": {},
     "title": ""
    }
   },
   "outputs": [],
   "source": [
    "%sql\n",
    "CREATE OR REPLACE TABLE gold.customers (\n",
    "  SK_CUSTOMER BIGINT GENERATED ALWAYS AS IDENTITY,\n",
    "  CUSTOMER_ID INTEGER,\n",
    "  ACTIVE BOOLEAN,\n",
    "  load_timestamp TIMESTAMP,\n",
    "  end_timestamp TIMESTAMP,\n",
    "  HASH STRING,\n",
    "  SOCIAL_SECURITY_NUMBER STRING,\n",
    "  NAME STRING,\n",
    "  EMAIL STRING,\n",
    "  PHONE BIGINT,\n",
    "  ADDRESS STRING,\n",
    "  ZIP_CODE INTEGER\n",
    ")\n",
    "USING DELTA"
   ]
  },
  {
   "cell_type": "markdown",
   "metadata": {
    "application/vnd.databricks.v1+cell": {
     "cellMetadata": {},
     "inputWidgets": {},
     "nuid": "bee7ee65-d48e-457d-b8d6-b1dac5bea4aa",
     "showTitle": false,
     "tableResultSettingsMap": {},
     "title": ""
    }
   },
   "source": [
    "# Check the connection with SQL server"
   ]
  },
  {
   "cell_type": "markdown",
   "metadata": {
    "application/vnd.databricks.v1+cell": {
     "cellMetadata": {},
     "inputWidgets": {},
     "nuid": "2ad3c483-2652-4665-9df5-9a1f0a17611a",
     "showTitle": false,
     "tableResultSettingsMap": {},
     "title": ""
    }
   },
   "source": [
    "Check the IP address"
   ]
  },
  {
   "cell_type": "code",
   "execution_count": 0,
   "metadata": {
    "application/vnd.databricks.v1+cell": {
     "cellMetadata": {
      "byteLimit": 2048000,
      "rowLimit": 10000
     },
     "inputWidgets": {},
     "nuid": "4fa5aaf3-8733-4ba0-9cd5-418a585592e9",
     "showTitle": false,
     "tableResultSettingsMap": {},
     "title": ""
    }
   },
   "outputs": [],
   "source": [
    "import requests\n",
    "ip = requests.get(\"https://ifconfig.me\").text\n",
    "print(f\"O IP público do Databricks é: {ip}\")"
   ]
  },
  {
   "cell_type": "markdown",
   "metadata": {
    "application/vnd.databricks.v1+cell": {
     "cellMetadata": {},
     "inputWidgets": {},
     "nuid": "a2929b2f-93de-4559-96e8-30d59fd15080",
     "showTitle": false,
     "tableResultSettingsMap": {},
     "title": ""
    }
   },
   "source": [
    "Check connection to database"
   ]
  },
  {
   "cell_type": "code",
   "execution_count": 0,
   "metadata": {
    "application/vnd.databricks.v1+cell": {
     "cellMetadata": {
      "byteLimit": 2048000,
      "rowLimit": 10000
     },
     "inputWidgets": {},
     "nuid": "53464495-a744-4e48-917d-122d60027484",
     "showTitle": false,
     "tableResultSettingsMap": {},
     "title": ""
    }
   },
   "outputs": [],
   "source": [
    "%python\n",
    "# Define the JDBC URL and authentication credentials\n",
    "properties = {\n",
    "    \"user\": sql_db_retail_user,        # Replace with your username\n",
    "    \"password\": sql_db_retail_key,      # Replace with your password\n",
    "    \"driver\": \"com.microsoft.sqlserver.jdbc.SQLServerDriver\"\n",
    "}\n",
    "\n",
    "# Try to access the table to validate the connection\n",
    "try:\n",
    "    df = spark.read.jdbc(url=sql_db_retail_url, table=\"INFORMATION_SCHEMA.TABLES\", properties=properties)\n",
    "    df.show()  # Displays the tables in the database\n",
    "except Exception as e:\n",
    "    print(\"Connection error:\", e)"
   ]
  },
  {
   "cell_type": "markdown",
   "metadata": {
    "application/vnd.databricks.v1+cell": {
     "cellMetadata": {},
     "inputWidgets": {},
     "nuid": "18455219-80de-4fac-b533-c43bd54771e4",
     "showTitle": false,
     "tableResultSettingsMap": {},
     "title": ""
    }
   },
   "source": [
    "# Releasing resources"
   ]
  },
  {
   "cell_type": "code",
   "execution_count": 0,
   "metadata": {
    "application/vnd.databricks.v1+cell": {
     "cellMetadata": {
      "byteLimit": 2048000,
      "implicitDf": true,
      "rowLimit": 10000
     },
     "inputWidgets": {},
     "nuid": "dda9bab6-84d3-41ca-be81-13e29ef8f95e",
     "showTitle": false,
     "tableResultSettingsMap": {},
     "title": ""
    }
   },
   "outputs": [],
   "source": [
    "%sql\n",
    "DROP TABLE IF EXISTS bronze.customers"
   ]
  },
  {
   "cell_type": "code",
   "execution_count": 0,
   "metadata": {
    "application/vnd.databricks.v1+cell": {
     "cellMetadata": {
      "byteLimit": 2048000,
      "rowLimit": 10000
     },
     "inputWidgets": {},
     "nuid": "810c1f29-13a2-4c16-9156-29ab0280def7",
     "showTitle": false,
     "tableResultSettingsMap": {},
     "title": ""
    }
   },
   "outputs": [],
   "source": [
    "# Listar todas as tabelas no Hive Metastore\n",
    "tables = [\n",
    "    \"CUSTOMERS\", \"BRANDS\", \"CATEGORIES\", \"PRODUCTS\", \"STORES\",\n",
    "    \"PROMOTIONS\", \"PAYMENT_METHODS\", \"INVENTORY\", \"SALES\", \"TRANSACTION_ITEM\"\n",
    "]\n",
    "\n",
    "# Excluir todas as tabelas\n",
    "for table in tables:\n",
    "    spark.sql(f\"DROP TABLE IF EXISTS bronze.{table}\")"
   ]
  },
  {
   "cell_type": "code",
   "execution_count": 0,
   "metadata": {
    "application/vnd.databricks.v1+cell": {
     "cellMetadata": {
      "byteLimit": 2048000,
      "rowLimit": 10000
     },
     "inputWidgets": {},
     "nuid": "13f5150c-5042-4290-86c3-8dd0e9cd642a",
     "showTitle": false,
     "tableResultSettingsMap": {},
     "title": ""
    }
   },
   "outputs": [],
   "source": [
    "# Delete all files and directories\n",
    "\n",
    "\n",
    "dbutils.fs.unmount(\"/mnt/databricksretail/retailcontainer\")\n",
    "dbutils.fs.rm(\"/mnt/databricksretail\", recurse=True)"
   ]
  },
  {
   "cell_type": "code",
   "execution_count": 0,
   "metadata": {
    "application/vnd.databricks.v1+cell": {
     "cellMetadata": {
      "byteLimit": 2048000,
      "rowLimit": 10000
     },
     "inputWidgets": {},
     "nuid": "63a3a6ea-cc56-44d9-90be-af7110db339b",
     "showTitle": false,
     "tableResultSettingsMap": {},
     "title": ""
    }
   },
   "outputs": [],
   "source": [
    "# Excluir o banco de dados, incluindo todas as tabelas (opção CASCADE)\n",
    "spark.sql(\"DROP DATABASE bronze CASCADE\")\n",
    "spark.sql(\"DROP DATABASE silver CASCADE\")\n",
    "spark.sql(\"DROP DATABASE gold CASCADE\")"
   ]
  }
 ],
 "metadata": {
  "application/vnd.databricks.v1+notebook": {
   "computePreferences": null,
   "dashboards": [],
   "environmentMetadata": {
    "base_environment": "",
    "environment_version": "2"
   },
   "language": "python",
   "notebookMetadata": {
    "mostRecentlyExecutedCommandWithImplicitDF": {
     "commandId": 559752049615879,
     "dataframes": [
      "_sqldf"
     ]
    },
    "pythonIndentUnit": 4
   },
   "notebookName": "Basic configuration",
   "widgets": {}
  },
  "language_info": {
   "name": "python"
  }
 },
 "nbformat": 4,
 "nbformat_minor": 0
}
