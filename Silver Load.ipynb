{
 "cells": [
  {
   "cell_type": "code",
   "execution_count": 0,
   "metadata": {
    "application/vnd.databricks.v1+cell": {
     "cellMetadata": {
      "byteLimit": 2048000,
      "rowLimit": 10000
     },
     "inputWidgets": {},
     "nuid": "a5292f91-50fe-4713-ae6e-383b4a68a309",
     "showTitle": false,
     "tableResultSettingsMap": {},
     "title": ""
    }
   },
   "outputs": [],
   "source": [
    "from pyspark.sql.functions import current_timestamp, col, concat_ws, sha2, lit\n",
    "from delta.tables import DeltaTable"
   ]
  },
  {
   "cell_type": "markdown",
   "metadata": {
    "application/vnd.databricks.v1+cell": {
     "cellMetadata": {},
     "inputWidgets": {},
     "nuid": "72d3fbf4-8d47-48e4-b6fe-43d926894f46",
     "showTitle": false,
     "tableResultSettingsMap": {},
     "title": ""
    }
   },
   "source": [
    "## Customers"
   ]
  },
  {
   "cell_type": "code",
   "execution_count": 0,
   "metadata": {
    "application/vnd.databricks.v1+cell": {
     "cellMetadata": {},
     "inputWidgets": {},
     "nuid": "a7cd40b2-c5ee-4168-8851-e1ab38069636",
     "showTitle": false,
     "tableResultSettingsMap": {},
     "title": ""
    }
   },
   "outputs": [],
   "source": [
    "%sql\n",
    "CREATE OR REPLACE TABLE silver.customers USING DELTA AS\n",
    "SELECT \n",
    "    CUSTOMER_ID,\n",
    "    hash,\n",
    "    load_timestamp,\n",
    "    end_timestamp,\n",
    "    Social_Security_Number,\n",
    "    COALESCE(Name, 'NOT INFORMED') AS Name,\n",
    "    COALESCE(Email, 'NOT INFORMED') AS Email,\n",
    "    CAST(COALESCE(REGEXP_REPLACE(Phone, '[^0-9]', ''), '-1') AS BIGINT) AS Phone,\n",
    "    COALESCE(Address, 'NOT INFORMED') AS Address,\n",
    "    CAST(REGEXP_REPLACE(COALESCE(Zip_Code, '-1'), '[^0-9]', '') AS INT) AS Zip_Code\n",
    "FROM bronze.customers\n",
    "-- WHERE {processing_date} BETWEEN load_timestamp AND end_timestamp\n",
    "WHERE state in (2, 4)\n",
    "\n",
    "\n"
   ]
  }
 ],
 "metadata": {
  "application/vnd.databricks.v1+notebook": {
   "computePreferences": null,
   "dashboards": [],
   "environmentMetadata": {
    "base_environment": "",
    "environment_version": "2"
   },
   "language": "python",
   "notebookMetadata": {
    "mostRecentlyExecutedCommandWithImplicitDF": {
     "commandId": 3941432922585217,
     "dataframes": [
      "_sqldf"
     ]
    },
    "pythonIndentUnit": 4
   },
   "notebookName": "Silver Load",
   "widgets": {}
  },
  "language_info": {
   "name": "python"
  }
 },
 "nbformat": 4,
 "nbformat_minor": 0
}
